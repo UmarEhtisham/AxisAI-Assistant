{
 "cells": [
  {
   "cell_type": "code",
   "execution_count": null,
   "metadata": {},
   "outputs": [],
   "source": [
    "%pip install -qU langchain_community"
   ]
  },
  {
   "cell_type": "code",
   "execution_count": null,
   "metadata": {},
   "outputs": [],
   "source": [
    "import langchain_community\n",
    "langchain_community.__version__"
   ]
  },
  {
   "cell_type": "code",
   "execution_count": 3,
   "metadata": {},
   "outputs": [],
   "source": [
    "import pandas as pd\n",
    "import pathlib\n",
    "\n",
    "\n",
    "\n",
    "file_path = pathlib.Path(\"../data/csv/flights.csv\")\n",
    "df = pd.read_csv(file_path)\n",
    "\n",
    "\n",
    "\n",
    "df.drop('Unnamed: 0', axis=1, inplace=True)\n",
    "\n",
    "\n",
    "\n",
    "pd.read_csv(file_path).sample(50).to_csv(file_path, index=False)"
   ]
  },
  {
   "cell_type": "code",
   "execution_count": null,
   "metadata": {},
   "outputs": [],
   "source": [
    "from langchain_community.document_loaders.csv_loader import CSVLoader\n",
    "import pathlib\n",
    "file_path = pathlib.Path(\"../data/csv/flights.csv\")\n",
    "loader = CSVLoader(\n",
    "    file_path=file_path,\n",
    "    source_column='Source',\n",
    "\n",
    ")\n",
    "\n",
    "data = loader.load()\n",
    "\n",
    "print(data)"
   ]
  },
  {
   "cell_type": "code",
   "execution_count": 58,
   "metadata": {},
   "outputs": [],
   "source": [
    "\n",
    "docs = [doc.page_content for doc in data]"
   ]
  },
  {
   "cell_type": "code",
   "execution_count": null,
   "metadata": {},
   "outputs": [],
   "source": [
    "print(docs)"
   ]
  },
  {
   "cell_type": "code",
   "execution_count": null,
   "metadata": {},
   "outputs": [],
   "source": [
    "from langchain_text_splitters import RecursiveCharacterTextSplitter\n",
    "\n",
    "text_splitter = RecursiveCharacterTextSplitter(\n",
    "    # Set a really small chunk size, just to show.\n",
    "    separators=[\"\\n\\n\", \"\\n\", \".\", \"!\", \"?\", \",\", \";\", \":\"],\n",
    "    chunk_size=100,\n",
    "    chunk_overlap=20,\n",
    "    length_function=len,\n",
    "    is_separator_regex=False,\n",
    ")\n",
    "texts = text_splitter.create_documents(docs)\n",
    "len(texts)"
   ]
  },
  {
   "cell_type": "code",
   "execution_count": null,
   "metadata": {},
   "outputs": [],
   "source": [
    "texts"
   ]
  },
  {
   "cell_type": "code",
   "execution_count": null,
   "metadata": {},
   "outputs": [],
   "source": [
    "import os\n",
    "from dotenv import load_dotenv\n",
    "load_dotenv()"
   ]
  },
  {
   "cell_type": "code",
   "execution_count": null,
   "metadata": {},
   "outputs": [],
   "source": [
    "from langchain_google_genai import GoogleGenerativeAI\n",
    "llm = GoogleGenerativeAI(model=\"gemini-1.5-pro\",\n",
    "                         google_api_key=os.getenv(\"GOOGLE_API_KEY\"))\n",
    "print(\n",
    "    llm.invoke(\n",
    "        \"What are some of the pros and cons of Python as a programming language?\"\n",
    "    )\n",
    ")"
   ]
  },
  {
   "cell_type": "code",
   "execution_count": 4,
   "metadata": {},
   "outputs": [],
   "source": [
    "import pandas as pd\n",
    "df = pd.read_csv(\"../data/csv/insurance.csv\")"
   ]
  },
  {
   "cell_type": "code",
   "execution_count": null,
   "metadata": {},
   "outputs": [],
   "source": [
    "df.head()"
   ]
  },
  {
   "cell_type": "code",
   "execution_count": null,
   "metadata": {},
   "outputs": [],
   "source": [
    "import pandas as pd\n",
    "import pathlib\n",
    "import os\n",
    "from langchain.agents.agent_types import AgentType\n",
    "from langchain_experimental.agents.agent_toolkits import create_csv_agent, create_pandas_dataframe_agent\n",
    "from langchain_openai import ChatOpenAI\n",
    "from langchain_google_genai import GoogleGenerativeAI\n",
    "import warnings\n",
    "from dotenv import load_dotenv\n",
    "\n",
    "load_dotenv()\n",
    "\n",
    "file_path = pathlib.Path(\"../data/csv/flights.csv\")\n",
    "\n",
    "warnings.filterwarnings(\"ignore\")\n",
    "\n",
    "# Initialize the LLM\n",
    "llm = ChatOpenAI(temperature=0.5, model=\"gpt-4o\")\n",
    "# llm = GoogleGenerativeAI(model=\"gemini-1.5-pro\", temperature=0.7)\n",
    "# df = pd.read_csv(\"../data/csv/flights.csv\")\n",
    "# Create the CSV agent with Python execution capabilities\n",
    "agent = create_pandas_dataframe_agent(\n",
    "    llm,\n",
    "    df,\n",
    "    engine=\"pandas\",\n",
    "    verbose=True,\n",
    "\n",
    "    allow_dangerous_code=True  # Required for Python code execution\n",
    ")\n",
    "\n",
    "# Query without specifying the tool\n",
    "query = \"how many Ms,Mrs and Mr in dataset to do this use gender and age for feature engineering and then give answer?\"\n",
    "\n",
    "# Run the agent\n",
    "result = agent.run(query)\n",
    "print(result)"
   ]
  },
  {
   "cell_type": "code",
   "execution_count": null,
   "metadata": {},
   "outputs": [],
   "source": [
    "from langchain_community.document_loaders.csv_loader import UnstructuredCSVLoader\n",
    "\n",
    "loader = UnstructuredCSVLoader(\n",
    "    file_path=str(file_path), mode=\"elements\"\n",
    ")\n",
    "docs = loader.load()\n",
    "\n",
    "print(docs[0].metadata[\"text_as_html\"])"
   ]
  },
  {
   "cell_type": "code",
   "execution_count": 5,
   "metadata": {},
   "outputs": [
    {
     "data": {
      "text/plain": [
       "1340"
      ]
     },
     "execution_count": 5,
     "metadata": {},
     "output_type": "execute_result"
    }
   ],
   "source": [
    "import os\n",
    "from pandasai.llm.google_gemini import GoogleGemini\n",
    "from pandasai import SmartDataframe\n",
    "from dotenv import load_dotenv\n",
    "load_dotenv()\n",
    "\n",
    "\n",
    "llm = GoogleGemini(model=\"gemini-1.5-pro\",\n",
    "                         temperature=0.7,\n",
    "                         api_key=os.getenv(\"GOOGLE_API_KEY\"))\n",
    "sdf = SmartDataframe(df, config={'llm': llm})\n",
    "sdf.chat(\"how many rows in dataset?\")"
   ]
  },
  {
   "cell_type": "code",
   "execution_count": 7,
   "metadata": {},
   "outputs": [
    {
     "data": {
      "text/plain": [
       "'The employee with the highest salary is Olivia.'"
      ]
     },
     "execution_count": 7,
     "metadata": {},
     "output_type": "execute_result"
    }
   ],
   "source": [
    "from pandasai import SmartDatalake\n",
    "import pandas as pd\n",
    "employees_df = pd.DataFrame(\n",
    "    {\n",
    "        \"EmployeeID\": [1, 2, 3, 4, 5],\n",
    "        \"Name\": [\"John\", \"Emma\", \"Liam\", \"Olivia\", \"William\"],\n",
    "        \"Department\": [\"HR\", \"Sales\", \"IT\", \"Marketing\", \"Finance\"],\n",
    "    }\n",
    ")\n",
    "\n",
    "salaries_df = pd.DataFrame(\n",
    "    {\n",
    "        \"EmployeeID\": [1, 2, 3, 4, 5],\n",
    "        \"Salary\": [5000, 6000, 4500, 7000, 5500],\n",
    "    }\n",
    ")\n",
    "\n",
    "lake = SmartDatalake([employees_df, salaries_df], config={'llm': llm})\n",
    "lake.chat(\"What's the name of the employee that gets paid the most?\")"
   ]
  },
  {
   "cell_type": "code",
   "execution_count": 26,
   "metadata": {},
   "outputs": [
    {
     "data": {
      "text/plain": [
       "'c:/Users/mrqad/Downloads/Linux-Gits/AxisAI-Assistant/exports/charts/temp_chart.png'"
      ]
     },
     "execution_count": 26,
     "metadata": {},
     "output_type": "execute_result"
    },
    {
     "data": {
      "image/png": "[encoded data removed]",
      "text/plain": [
       "<Figure size 640x480 with 1 Axes>"
      ]
     },
     "metadata": {},
     "output_type": "display_data"
    }
   ],
   "source": [
    "from pandasai.responses.streamlit_response import StreamlitResponse\n",
    "from pandasai import SmartDatalake\n",
    "from pandasai import SmartDataframe\n",
    "from langchain_google_genai import GoogleGenerativeAI\n",
    "query = \"how many Ms,Mrs and Mr in dataset to do this use gender and age for feature engineering and then give answer?\"\n",
    "lang_llm = GoogleGenerativeAI(model=\"gemini-1.5-pro\", temperature=0.7)\n",
    "custom_export_path = \"data/csv/temp.png\"\n",
    "# Initialize SmartDataframe with the custom export path\n",
    "sdf = SmartDatalake(\n",
    "    df, config={'llm': lang_llm, 'response_parser': StreamlitResponse})\n",
    "query = \"plot the average claim based on gender\"\n",
    "sdf.chat(query)"
   ]
  },
  {
   "cell_type": "code",
   "execution_count": 25,
   "metadata": {},
   "outputs": [
    {
     "name": "stderr",
     "output_type": "stream",
     "text": [
      "Traceback (most recent call last):\n",
      "  File \"c:\\Users\\mrqad\\Downloads\\Linux-Gits\\AxisAI-Assistant\\env\\Lib\\site-packages\\pandasai\\pipelines\\chat\\generate_chat_pipeline.py\", line 283, in run\n",
      "    output = (self.code_generation_pipeline | self.code_execution_pipeline).run(\n",
      "             ^^^^^^^^^^^^^^^^^^^^^^^^^^^^^^^^^^^^^^^^^^^^^^^^^^^^^^^^^^^^^^^^^^^\n",
      "  File \"c:\\Users\\mrqad\\Downloads\\Linux-Gits\\AxisAI-Assistant\\env\\Lib\\site-packages\\pandasai\\pipelines\\pipeline.py\", line 137, in run\n",
      "    raise e\n",
      "  File \"c:\\Users\\mrqad\\Downloads\\Linux-Gits\\AxisAI-Assistant\\env\\Lib\\site-packages\\pandasai\\pipelines\\pipeline.py\", line 101, in run\n",
      "    step_output = logic.execute(\n",
      "                  ^^^^^^^^^^^^^^\n",
      "  File \"c:\\Users\\mrqad\\Downloads\\Linux-Gits\\AxisAI-Assistant\\env\\Lib\\site-packages\\pandasai\\pipelines\\chat\\prompt_generation.py\", line 37, in execute\n",
      "    self.logger.log(f\"Using prompt: {prompt}\")\n",
      "                                    ^^^^^^^^\n",
      "  File \"c:\\Users\\mrqad\\Downloads\\Linux-Gits\\AxisAI-Assistant\\env\\Lib\\site-packages\\pandasai\\prompts\\base.py\", line 54, in __str__\n",
      "    return self.to_string()\n",
      "           ^^^^^^^^^^^^^^^^\n",
      "  File \"c:\\Users\\mrqad\\Downloads\\Linux-Gits\\AxisAI-Assistant\\env\\Lib\\site-packages\\pandasai\\prompts\\base.py\", line 49, in to_string\n",
      "    self._resolved_prompt = self.prompt.render(**self.props)\n",
      "                            ^^^^^^^^^^^^^^^^^^^^^^^^^^^^^^^^\n",
      "  File \"c:\\Users\\mrqad\\Downloads\\Linux-Gits\\AxisAI-Assistant\\env\\Lib\\site-packages\\jinja2\\environment.py\", line 1304, in render\n",
      "    self.environment.handle_exception()\n",
      "  File \"c:\\Users\\mrqad\\Downloads\\Linux-Gits\\AxisAI-Assistant\\env\\Lib\\site-packages\\jinja2\\environment.py\", line 939, in handle_exception\n",
      "    raise rewrite_traceback_stack(source=source)\n",
      "  File \"c:\\Users\\mrqad\\Downloads\\Linux-Gits\\AxisAI-Assistant\\env\\Lib\\site-packages\\pandasai\\prompts\\templates\\generate_python_code.tmpl\", line 19, in top-level template code\n",
      "    {% include 'shared/vectordb_docs.tmpl' with context %}\n",
      "    ^^^^^^^^^^^^^^^^^^^^^^^^^\n",
      "  File \"c:\\Users\\mrqad\\Downloads\\Linux-Gits\\AxisAI-Assistant\\env\\Lib\\site-packages\\pandasai\\prompts\\templates\\shared\\vectordb_docs.tmpl\", line 1, in top-level template code\n",
      "    {% if context.vectorstore %}{% set documents = context.vectorstore.get_relevant_qa_documents(context.memory.get_last_message()) %}\n",
      "    ^^^^^^^^^^^^^^^^^^^^^^^^^\n",
      "  File \"c:\\Users\\mrqad\\Downloads\\Linux-Gits\\AxisAI-Assistant\\env\\Lib\\site-packages\\pandasai\\vectorstores\\bamboo_vectorstore.py\", line 56, in get_relevant_qa_documents\n",
      "    docs = self._session.get(\n",
      "           ^^^^^^^^^^^^^^^^^^\n",
      "  File \"c:\\Users\\mrqad\\Downloads\\Linux-Gits\\AxisAI-Assistant\\env\\Lib\\site-packages\\pandasai\\helpers\\request.py\", line 34, in get\n",
      "    return self.make_request(\"GET\", path, **kwargs)[\"data\"]\n",
      "           ^^^^^^^^^^^^^^^^^^^^^^^^^^^^^^^^^^^^^^^^\n",
      "  File \"c:\\Users\\mrqad\\Downloads\\Linux-Gits\\AxisAI-Assistant\\env\\Lib\\site-packages\\pandasai\\helpers\\request.py\", line 71, in make_request\n",
      "    raise PandasAIApiCallError(data[\"message\"])\n",
      "pandasai.exceptions.PandasAIApiCallError: Training failed because of internal server error try again later!\n"
     ]
    },
    {
     "data": {
      "text/plain": [
       "'Unfortunately, I was not able to answer your question, because of the following error:\\n\\nTraining failed because of internal server error try again later!\\n'"
      ]
     },
     "execution_count": 25,
     "metadata": {},
     "output_type": "execute_result"
    }
   ],
   "source": [
    "\n",
    "import os\n",
    "import pandas as pd\n",
    "from pandasai import SmartDatalake\n",
    "from pandasai.responses.streamlit_response import StreamlitResponse\n",
    "\n",
    "employees_df = pd.DataFrame(\n",
    "    {\n",
    "        \"EmployeeID\": [1, 2, 3, 4, 5],\n",
    "        \"Name\": [\"John\", \"Emma\", \"Liam\", \"Olivia\", \"William\"],\n",
    "        \"Department\": [\"HR\", \"Sales\", \"IT\", \"Marketing\", \"Finance\"],\n",
    "    }\n",
    ")\n",
    "\n",
    "salaries_df = pd.DataFrame(\n",
    "    {\n",
    "        \"EmployeeID\": [1, 2, 3, 4, 5],\n",
    "        \"Salary\": [5000, 6000, 4500, 7000, 5500],\n",
    "    }\n",
    ")\n",
    "\n",
    "\n",
    "# By default, unless you choose a different LLM, it will use BambooLLM.\n",
    "# You can get your free API key signing up at https://pandabi.ai (you can also configure it in your .env file)\n",
    "# os.environ[\"PANDASAI_API_KEY\"] = \"$2a$10$CAfARGESRUQTEB5ybvpCdejKDfwVEd5MiyOAB7lLqwz5H0TABdeiC\"\n",
    "\n",
    "agent = SmartDatalake(\n",
    "    [employees_df, salaries_df],\n",
    "    config={\"verbose\": True, \"response_parser\": StreamlitResponse, 'llm': lang_llm},\n",
    ")\n",
    "\n",
    "agent.chat(\"Plot salaries against name\")"
   ]
  },
  {
   "cell_type": "code",
   "execution_count": 17,
   "metadata": {},
   "outputs": [
    {
     "data": {
      "text/plain": [
       "<module 'pandasai.helpers.output_types' from 'c:\\\\Users\\\\mrqad\\\\Downloads\\\\Linux-Gits\\\\AxisAI-Assistant\\\\env\\\\Lib\\\\site-packages\\\\pandasai\\\\helpers\\\\output_types\\\\__init__.py'>"
      ]
     },
     "execution_count": 17,
     "metadata": {},
     "output_type": "execute_result"
    }
   ],
   "source": [
    "import pandasai.helpers.output_types\n",
    "pandasai.helpers.output_types"
   ]
  },
  {
   "cell_type": "code",
   "execution_count": 6,
   "metadata": {},
   "outputs": [],
   "source": [
    "from pandasai import SmartDataframe\n",
    "sdf = SmartDataframe(df, config={'llm': llm})"
   ]
  },
  {
   "cell_type": "code",
   "execution_count": null,
   "metadata": {},
   "outputs": [],
   "source": [
    "sdf.chat(\"how many Ms,Mrs and Mr in dataset you can do feature engineering and then give answer?\")"
   ]
  },
  {
   "cell_type": "code",
   "execution_count": null,
   "metadata": {},
   "outputs": [],
   "source": [
    "!pip install llama-index"
   ]
  },
  {
   "cell_type": "code",
   "execution_count": null,
   "metadata": {},
   "outputs": [],
   "source": [
    "%pip install llama_index"
   ]
  },
  {
   "cell_type": "code",
   "execution_count": null,
   "metadata": {},
   "outputs": [],
   "source": [
    "!pip install llama-index llama-index-experimental"
   ]
  },
  {
   "cell_type": "code",
   "execution_count": 2,
   "metadata": {},
   "outputs": [],
   "source": [
    "from llama_index.experimental.query_engine import PandasQueryEngine\n",
    "import pandas as pd\n",
    "from IPython.display import Markdown, display\n",
    "import logging\n",
    "import sys\n",
    "from dotenv import load_dotenv\n",
    "load_dotenv()\n",
    "\n",
    "\n",
    "# logging.basicConfig(stream=sys.stdout, level=logging.INFO)\n",
    "# logging.getLogger().addHandler(logging.StreamHandler(stream=sys.stdout))"
   ]
  },
  {
   "cell_type": "code",
   "execution_count": null,
   "metadata": {},
   "outputs": [],
   "source": [
    "# Test on some sample data\n",
    "df = pd.DataFrame(\n",
    "    {\n",
    "        \"city\": [\"Toronto\", \"Tokyo\", \"Berlin\"],\n",
    "        \"population\": [2930000, 13960000, 3645000],\n",
    "    }\n",
    ")\n",
    "query_engine = PandasQueryEngine(df=df, verbose=False)\n",
    "response = query_engine.query(\n",
    "    \"What is the city with the highest population?\",\n",
    ")"
   ]
  },
  {
   "cell_type": "code",
   "execution_count": null,
   "metadata": {},
   "outputs": [],
   "source": [
    "query_engine = PandasQueryEngine(df=df)\n",
    "\n",
    "response = query_engine.query(\n",
    "    \"What is the city with the lowest population?\",\n",
    ")"
   ]
  }
 ],
 "metadata": {
  "kernelspec": {
   "display_name": "Python 3",
   "language": "python",
   "name": "python3"
  },
  "language_info": {
   "codemirror_mode": {
    "name": "ipython",
    "version": 3
   },
   "file_extension": ".py",
   "mimetype": "text/x-python",
   "name": "python",
   "nbconvert_exporter": "python",
   "pygments_lexer": "ipython3",
   "version": "3.12.3"
  }
 },
 "nbformat": 4,
 "nbformat_minor": 2
}
